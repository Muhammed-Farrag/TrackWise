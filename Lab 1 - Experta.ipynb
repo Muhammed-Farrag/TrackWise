{
 "cells": [
  {
   "cell_type": "markdown",
   "metadata": {},
   "source": [
    "\n",
    "<img src=\"https://i.ibb.co/C17Hq3D/AIU-logo-png.png\" alt=\"AIU-logo-png\" border=\"0\" style=\"display: block; margin-left: auto;margin-right: 38%;width: 30%;\" />"
   ]
  },
  {
   "cell_type": "markdown",
   "metadata": {},
   "source": [
    "# <span style=\"color:#008BBB\">Lab 1 - Introduction to Experta</span>  "
   ]
  },
  {
   "cell_type": "markdown",
   "metadata": {},
   "source": [
    "_Content_\n",
    "\n",
    "* Intro to knowledge and experts in systems\n",
    "* Python Expert system based on CLIPS\n",
    "    * Facts\n",
    "    * Rules\n",
    "    * DefFacts\n",
    "    * KnowledgeEngine"
   ]
  },
  {
   "cell_type": "markdown",
   "metadata": {},
   "source": [
    "\"Knowledge is a theoretical or practical understanding of a subject or a domain.\n",
    "Knowledge is also the sum of what is currently known, and apparently knowledge is power. Those who possess knowledge are called <span style=\"color:orange\">_**experts**_</span>. They are the\n",
    "most powerful and important people in their organisations. \n",
    "\n",
    "Any successful\n",
    "company has at least a few first-class experts and it cannot remain in business\n",
    "without them.\""
   ]
  },
  {
   "cell_type": "markdown",
   "metadata": {},
   "source": [
    "#### - Who is generally acknowledged as an expert?\n",
    "\n",
    "\"Anyone can be considered a domain expert if he or she has deep knowledge (of\n",
    "both facts and rules) and strong practical experience in a particular domain. The\n",
    "area of the domain may be limited. For example, experts in electrical machines\n",
    "may have only general knowledge about transformers, while experts in life\n",
    "insurance marketing might have limited understanding of a real estate insurance\n",
    "policy. In general, an expert is a skilful person who can do things other people\n",
    "cannot.\""
   ]
  },
  {
   "cell_type": "markdown",
   "metadata": {},
   "source": [
    "### - How do experts think?\n",
    "\n",
    "\"The human mental process is internal, and it is too complex to be represented as\n",
    "an algorithm. However, most experts are capable of expressing their knowledge\n",
    "in the form of rules for problem solving. Consider a simple example. Imagine,\n",
    "you meet an alien! He wants to cross a road. Can you help him? You are an\n",
    "expert in crossing roads – you’ve been on this job for several years. Thus you are\n",
    "able to teach the alien. How would you do this?\"\n",
    "\n",
    "* You explain to the alien that he can cross the road safely when the traffic light is green, and he must stop when the traffic light is red. These are the basic rules. Your knowledge can be formulated as the following simple statements:\n",
    "\n",
    "    * IF the ‘traffic light’ is green\n",
    "        * THEN the action is go\n",
    "    * IF the ‘traffic light’ is red\n",
    "        * THEN the action is stop\n"
   ]
  },
  {
   "cell_type": "markdown",
   "metadata": {},
   "source": [
    "**These statements represented in the IF-THEN form are called _production\n",
    "rules_ or just _rules_. The term ‘rule’ in AI, which is the most commonly used type\n",
    "of knowledge representation, can be defined as an IF-THEN structure that relates\n",
    "given information or facts in the IF part to some action in the THEN part. A rule\n",
    "provides some description of how to solve a problem. Rules are relatively easy to\n",
    "create and understand.**"
   ]
  },
  {
   "cell_type": "markdown",
   "metadata": {
    "colab_type": "text",
    "id": "lJqjpcBUs_Lj"
   },
   "source": [
    "# Python Expert system based on CLIPS"
   ]
  },
  {
   "cell_type": "markdown",
   "metadata": {
    "colab_type": "text",
    "id": "Im2Ie9svtJuL"
   },
   "source": [
    "## installation "
   ]
  },
  {
   "cell_type": "code",
   "execution_count": 3,
   "metadata": {
    "colab": {
     "base_uri": "https://localhost:8080/",
     "height": 71
    },
    "colab_type": "code",
    "id": "xwlsOgOcXXgB",
    "outputId": "445c4074-5ee3-4728-c36c-ab3e63b39d78"
   },
   "outputs": [
    {
     "name": "stdout",
     "output_type": "stream",
     "text": [
      "Requirement already satisfied: experta in g:\\anacondaenvs\\tensorflow-env\\lib\\site-packages (1.9.4)\n",
      "Requirement already satisfied: frozendict==1.2 in g:\\anacondaenvs\\tensorflow-env\\lib\\site-packages (from experta) (1.2)\n",
      "Requirement already satisfied: schema==0.6.7 in g:\\anacondaenvs\\tensorflow-env\\lib\\site-packages (from experta) (0.6.7)\n"
     ]
    },
    {
     "name": "stderr",
     "output_type": "stream",
     "text": [
      "WARNING: Ignoring invalid distribution -ensorflow (g:\\anacondaenvs\\tensorflow-env\\lib\\site-packages)\n",
      "WARNING: Ignoring invalid distribution -ensorflow (g:\\anacondaenvs\\tensorflow-env\\lib\\site-packages)\n",
      "WARNING: Ignoring invalid distribution -ensorflow (g:\\anacondaenvs\\tensorflow-env\\lib\\site-packages)\n"
     ]
    }
   ],
   "source": [
    "! pip install experta"
   ]
  },
  {
   "cell_type": "markdown",
   "metadata": {},
   "source": [
    "You can rely on he following link in case of errors with the above command: \n",
    "https://github.com/nilp0inter/experta/blob/develop/docs/source/installation.rst"
   ]
  },
  {
   "cell_type": "markdown",
   "metadata": {
    "colab_type": "text",
    "id": "ICGJF6KCttmF"
   },
   "source": [
    "## The Basics\n",
    "\n",
    "An expert system is a program capable of pairing up a set of **facts** with\n",
    "a set of **rules** to those facts, and execute some actions based on the matching rules."
   ]
  },
  {
   "cell_type": "markdown",
   "metadata": {
    "colab_type": "text",
    "id": "2poRYfrvt0bE"
   },
   "source": [
    "## Facts\n",
    "\n",
    "`Facts` are the basic unit of information of Experta. They are used by the system to reason about the problem.\n",
    "\n",
    "Let's enumerate some facts about `Facts`, so... metafacts ;)\n",
    "\n"
   ]
  },
  {
   "cell_type": "markdown",
   "metadata": {
    "colab_type": "text",
    "id": "2tsKb4aAugUk"
   },
   "source": [
    "The class `Fact` is a subclass of `dict`.\n"
   ]
  },
  {
   "cell_type": "code",
   "execution_count": 2,
   "metadata": {
    "colab": {
     "base_uri": "https://localhost:8080/",
     "height": 35
    },
    "colab_type": "code",
    "id": "PEsyFqdjt8On",
    "outputId": "d5610378-3da1-4a44-cf90-4c5cb96ed950"
   },
   "outputs": [],
   "source": [
    "# import collections\n",
    "from experta import * \n",
    "# f = Fact(a=1, b=2)\n",
    "# f['a']"
   ]
  },
  {
   "cell_type": "markdown",
   "metadata": {
    "colab_type": "text",
    "id": "9ov_1rFwucGJ"
   },
   "source": [
    "In contrast to `dict`, you can create a `Fact` without keys (only values), and `Fact` will create a numeric index for your values."
   ]
  },
  {
   "cell_type": "code",
   "execution_count": 3,
   "metadata": {
    "colab": {
     "base_uri": "https://localhost:8080/",
     "height": 35
    },
    "colab_type": "code",
    "id": "1jXh-PLZuibZ",
    "outputId": "0a5e9433-acac-4d67-b713-717d210f0ec0"
   },
   "outputs": [
    {
     "data": {
      "text/plain": [
       "'x'"
      ]
     },
     "execution_count": 3,
     "metadata": {},
     "output_type": "execute_result"
    }
   ],
   "source": [
    "f = Fact('x', 'y', 'z') \n",
    "f[0]"
   ]
  },
  {
   "cell_type": "markdown",
   "metadata": {
    "colab_type": "text",
    "id": "AWhfZ4Q_usZm"
   },
   "source": [
    "You can mix autonumeric values with key-values, but autonumeric must be declared first"
   ]
  },
  {
   "cell_type": "code",
   "execution_count": 4,
   "metadata": {
    "colab": {},
    "colab_type": "code",
    "id": "FtBYGqK1uxX_"
   },
   "outputs": [],
   "source": [
    "f = Fact('x', 'y', 'z', a=1, b=2)"
   ]
  },
  {
   "cell_type": "code",
   "execution_count": 5,
   "metadata": {
    "colab": {
     "base_uri": "https://localhost:8080/",
     "height": 35
    },
    "colab_type": "code",
    "id": "8dbUUgvW8RBy",
    "outputId": "bb857513-b433-453d-a05a-29db83caf891"
   },
   "outputs": [
    {
     "data": {
      "text/plain": [
       "2"
      ]
     },
     "execution_count": 5,
     "metadata": {},
     "output_type": "execute_result"
    }
   ],
   "source": [
    "f['b']"
   ]
  },
  {
   "cell_type": "code",
   "execution_count": 6,
   "metadata": {},
   "outputs": [
    {
     "data": {
      "text/plain": [
       "Fact('x', 'y', 'z', a=1, b=2)"
      ]
     },
     "execution_count": 6,
     "metadata": {},
     "output_type": "execute_result"
    }
   ],
   "source": [
    "f"
   ]
  },
  {
   "cell_type": "markdown",
   "metadata": {
    "colab_type": "text",
    "id": "z1FFjFfp86p9"
   },
   "source": [
    "## Facts \n",
    "\n",
    "You can subclass `Fact` to express different kinds of data or extend it with your custom functionality."
   ]
  },
  {
   "cell_type": "code",
   "execution_count": 7,
   "metadata": {
    "colab": {},
    "colab_type": "code",
    "id": "r-_SC1SK8ZxI"
   },
   "outputs": [],
   "source": [
    "class Alert(Fact):\n",
    "    \"\"\"The alert level.\"\"\"\n",
    "    pass\n",
    "\n",
    "class Status(Fact):\n",
    "    \"\"\"The system status.\"\"\"\n",
    "    pass\n",
    "\n",
    "f1 = Alert('red')\n",
    "f2 = Status('critical')"
   ]
  },
  {
   "cell_type": "code",
   "execution_count": 8,
   "metadata": {},
   "outputs": [
    {
     "data": {
      "text/plain": [
       "Alert('red')"
      ]
     },
     "execution_count": 8,
     "metadata": {},
     "output_type": "execute_result"
    }
   ],
   "source": [
    "f1"
   ]
  },
  {
   "cell_type": "code",
   "execution_count": 9,
   "metadata": {},
   "outputs": [
    {
     "name": "stdout",
     "output_type": "stream",
     "text": [
      "This is an alert\n",
      "critical\n"
     ]
    }
   ],
   "source": [
    "fact1 = Alert(message = 'This is an alert')\n",
    "fact2 = Status(state = 'critical')\n",
    "print(fact1['message']) #This is an alert\n",
    "print (fact2['state']) #Critical"
   ]
  },
  {
   "cell_type": "code",
   "execution_count": 10,
   "metadata": {},
   "outputs": [
    {
     "data": {
      "text/plain": [
       "Alert(message='This is an alert')"
      ]
     },
     "execution_count": 10,
     "metadata": {},
     "output_type": "execute_result"
    }
   ],
   "source": [
    "fact1"
   ]
  },
  {
   "cell_type": "markdown",
   "metadata": {
    "colab_type": "text",
    "id": "uF6N9Tt6B-AJ"
   },
   "source": [
    "## Rules\n",
    "\n",
    "\n",
    "In Experta a **rule** is a callable, decorated with `Rule`.\n",
    "\n",
    "Rules have two components, LHS (left-hand-side) and RHS\n",
    "(right-hand-side).\n",
    "\n",
    "* The *LHS* describes (using **patterns**) the conditions on which the rule * should be executed (or fired).\n",
    "\n",
    "* The *RHS* is the set of actions to perform when the rule is fired.\n",
    "\n",
    "For a `Fact` to match a `Pattern`, all pattern restrictions must be\n",
    "**True** when the `Fact` is evaluated against it.\n"
   ]
  },
  {
   "cell_type": "code",
   "execution_count": 12,
   "metadata": {
    "colab": {},
    "colab_type": "code",
    "id": "NDj3iHu5EAlE"
   },
   "outputs": [],
   "source": [
    "class MyFact(Fact):\n",
    "  pass\n",
    "\n",
    "@Rule(MyFact())  # This is the LHS\n",
    "def match_with_every_myfact():\n",
    "  \"\"\"This rule will match with every instance of `MyFact`.\"\"\"\n",
    "  # This is the RHS\n",
    "  pass\n",
    "\n",
    "@Rule(Fact('animal', family='felinae'))\n",
    "def match_with_cats():\n",
    "  \"\"\"\n",
    "  Match with every `Fact` which:\n",
    "\n",
    "    * f[0] == 'animal'\n",
    "    * f['family'] == 'felinae'\n",
    "\n",
    "  \"\"\"\n",
    "  print(\"Meow!\") "
   ]
  },
  {
   "cell_type": "markdown",
   "metadata": {},
   "source": [
    "### * For a Rule to be useful, it must be a method of a KnowledgeEngine subclass.\n",
    "\n"
   ]
  },
  {
   "cell_type": "markdown",
   "metadata": {
    "colab_type": "text",
    "id": "HgfAx7L5KQO4"
   },
   "source": [
    "## DefFacts\n",
    "\n",
    "Most of the time expert systems need a set of facts to be present for the system to work. This is the purpose of the DefFacts decorator.\n",
    "\n",
    "All DefFacts inside a `KnowledgeEngine` will be called every time the reset method is called.\n",
    "\n",
    "\n",
    "\n"
   ]
  },
  {
   "cell_type": "code",
   "execution_count": 13,
   "metadata": {
    "colab": {},
    "colab_type": "code",
    "id": "EM4ZbFzyKUIU"
   },
   "outputs": [],
   "source": [
    "@DefFacts()\n",
    "def needed_data():\n",
    "    yield Fact(best_color=\"red\")\n",
    "    yield Fact(best_body=\"medium\")\n",
    "    yield Fact(best_sweetness=\"dry\")"
   ]
  },
  {
   "cell_type": "markdown",
   "metadata": {
    "colab_type": "text",
    "id": "yyxjkQwSKmd0"
   },
   "source": [
    "## KnowledgeEngine\n",
    "\n",
    "This is the place where all the magic happens.\n",
    "\n",
    "The first step is to make a subclass of it and use Rule to decorate its methods.\n",
    "\n",
    "After that, you can instantiate it, populate it with facts, and finally run it."
   ]
  },
  {
   "cell_type": "code",
   "execution_count": 14,
   "metadata": {
    "colab": {
     "base_uri": "https://localhost:8080/",
     "height": 35
    },
    "colab_type": "code",
    "id": "QdZqla2aKvrM",
    "outputId": "5603cd80-7c4d-4a89-bd35-bd37df177ba9"
   },
   "outputs": [
    {
     "data": {
      "text/plain": [
       "Fact(Color='Blue')"
      ]
     },
     "execution_count": 14,
     "metadata": {},
     "output_type": "execute_result"
    }
   ],
   "source": [
    "engine = KnowledgeEngine()\n",
    "engine.reset()\n",
    "engine.declare(Fact(Color='Blue'))"
   ]
  },
  {
   "cell_type": "code",
   "execution_count": 15,
   "metadata": {
    "colab": {
     "base_uri": "https://localhost:8080/",
     "height": 35
    },
    "colab_type": "code",
    "id": "9Gyk4Ml6K1l2",
    "outputId": "fe9fc5af-405f-4f56-e293-5e6d0ae65f8b"
   },
   "outputs": [
    {
     "data": {
      "text/plain": [
       "FactList([(0, InitialFact()), (1, Fact(Color='Blue'))])"
      ]
     },
     "execution_count": 15,
     "metadata": {},
     "output_type": "execute_result"
    }
   ],
   "source": [
    "engine.facts"
   ]
  },
  {
   "cell_type": "code",
   "execution_count": 20,
   "metadata": {},
   "outputs": [
    {
     "data": {
      "text/plain": [
       "FactList([(0, InitialFact()),\n",
       "          (1, Fact(best_color='red')),\n",
       "          (2, Fact(best_body='medium')),\n",
       "          (3, Fact(best_sweetness='dry')),\n",
       "          (4, Fact(Color='Blue'))])"
      ]
     },
     "execution_count": 20,
     "metadata": {},
     "output_type": "execute_result"
    }
   ],
   "source": [
    "class Engine(KnowledgeEngine):\n",
    "    @DefFacts()\n",
    "    def needed_data(self):\n",
    "        yield Fact(best_color=\"red\")\n",
    "        yield Fact(best_body=\"medium\")\n",
    "        yield Fact(best_sweetness=\"dry\")\n",
    "    pass\n",
    "engine = Engine()\n",
    "engine.reset()\n",
    "engine.declare(Fact(Color='Blue'))\n",
    "engine.facts\n"
   ]
  },
  {
   "cell_type": "markdown",
   "metadata": {
    "colab_type": "text",
    "id": "n7ALBeoWLKtJ"
   },
   "source": [
    "### retract\n",
    "Removes an existing fact from the factlist.\n",
    "\n",
    "### modify\n",
    "Retracts some fact from the factlist and declares a new one with some changes. Changes are passed as arguments."
   ]
  },
  {
   "cell_type": "code",
   "execution_count": 16,
   "metadata": {
    "colab": {
     "base_uri": "https://localhost:8080/",
     "height": 35
    },
    "colab_type": "code",
    "id": "IYDSDhtGLOSC",
    "outputId": "e6e575f5-4f44-43ac-e2ef-538618385cc6"
   },
   "outputs": [
    {
     "data": {
      "text/plain": [
       "FactList([(0, InitialFact()), (1, Fact(Color='Blue'))])"
      ]
     },
     "execution_count": 16,
     "metadata": {},
     "output_type": "execute_result"
    }
   ],
   "source": [
    "engine.facts"
   ]
  },
  {
   "cell_type": "code",
   "execution_count": 22,
   "metadata": {
    "colab": {
     "base_uri": "https://localhost:8080/",
     "height": 35
    },
    "colab_type": "code",
    "id": "Ao6immcvLUnd",
    "outputId": "843736a8-1894-4c7a-926e-8fdadd8059e3"
   },
   "outputs": [
    {
     "data": {
      "text/plain": [
       "Fact(best_color='red', color='yellow', blink=True)"
      ]
     },
     "execution_count": 22,
     "metadata": {},
     "output_type": "execute_result"
    }
   ],
   "source": [
    "engine.modify(engine.facts[1], color='yellow', blink=True)"
   ]
  },
  {
   "cell_type": "code",
   "execution_count": 23,
   "metadata": {
    "colab": {
     "base_uri": "https://localhost:8080/",
     "height": 53
    },
    "colab_type": "code",
    "id": "QoKxSz9hLYcQ",
    "outputId": "543bf505-9f9e-4262-d0d1-cece4c198f25"
   },
   "outputs": [
    {
     "data": {
      "text/plain": [
       "FactList([(0, InitialFact()),\n",
       "          (2, Fact(best_body='medium')),\n",
       "          (3, Fact(best_sweetness='dry')),\n",
       "          (4, Fact(Color='Blue')),\n",
       "          (5, Fact(best_color='red', color='yellow', blink=True))])"
      ]
     },
     "execution_count": 23,
     "metadata": {},
     "output_type": "execute_result"
    }
   ],
   "source": [
    "engine.facts"
   ]
  },
  {
   "cell_type": "code",
   "execution_count": 24,
   "metadata": {},
   "outputs": [
    {
     "data": {
      "text/plain": [
       "FactList([(0, InitialFact()),\n",
       "          (2, Fact(best_body='medium')),\n",
       "          (3, Fact(best_sweetness='dry')),\n",
       "          (4, Fact(Color='Blue'))])"
      ]
     },
     "execution_count": 24,
     "metadata": {},
     "output_type": "execute_result"
    }
   ],
   "source": [
    "engine.retract(5)\n",
    "engine.facts"
   ]
  },
  {
   "cell_type": "markdown",
   "metadata": {},
   "source": [
    "## Rules Field Constraints: FC for sort\n"
   ]
  },
  {
   "cell_type": "markdown",
   "metadata": {},
   "source": [
    "`L (Literal Field Constraint)`\n",
    "\n",
    ":This element performs an exact match with \n",
    "the given value. The matching is done using the equality operator `==`.\n",
    "This is the default FC used when no FC is given as a pattern value"
   ]
  },
  {
   "cell_type": "code",
   "execution_count": 17,
   "metadata": {},
   "outputs": [],
   "source": [
    "@Rule(Fact(L(3))) # Match if the first element is exactly 3\n",
    "def _():\n",
    "    pass"
   ]
  },
  {
   "cell_type": "markdown",
   "metadata": {},
   "source": [
    "`W (Wildcard Field Constraint)`:\n",
    "\n",
    "\n",
    "This element matches with any value."
   ]
  },
  {
   "cell_type": "code",
   "execution_count": 18,
   "metadata": {},
   "outputs": [],
   "source": [
    "@Rule(Fact(mykey=W())) # Match if some fact is declared with the key mykey. \n",
    "def _():\n",
    "    pass"
   ]
  },
  {
   "cell_type": "markdown",
   "metadata": {},
   "source": [
    "## Variable Binding: \n",
    "### The `<<` Operator\n",
    "Any pattern and some FCs can be binded to a name using the << operator."
   ]
  },
  {
   "cell_type": "code",
   "execution_count": 19,
   "metadata": {},
   "outputs": [],
   "source": [
    "# The first value of the matching fact will be binded to the name value and passed to the function when fired.\n",
    "@Rule(Fact('value' << W()))\n",
    "def _(value):\n",
    "    pass"
   ]
  },
  {
   "cell_type": "code",
   "execution_count": 20,
   "metadata": {},
   "outputs": [],
   "source": [
    "# The whole matching fact will be binded to f1 and passed to the function when fired.\n",
    "@Rule('f1' << Fact())\n",
    "def _(f1):\n",
    "    pass"
   ]
  },
  {
   "cell_type": "markdown",
   "metadata": {},
   "source": [
    "### `MATCH` object\n",
    "The MATCH objects helps generating more readable name bindings. Is syntactic sugar for a Wildcard Field Constraint binded to a name. For example:"
   ]
  },
  {
   "cell_type": "code",
   "execution_count": 21,
   "metadata": {},
   "outputs": [],
   "source": [
    "@Rule(Fact(MATCH.myvalue))\n",
    "def _(myvalue):\n",
    "    pass"
   ]
  },
  {
   "cell_type": "markdown",
   "metadata": {},
   "source": [
    "Is exactly the same as:\n"
   ]
  },
  {
   "cell_type": "code",
   "execution_count": 22,
   "metadata": {},
   "outputs": [],
   "source": [
    "@Rule(Fact(\"myvalue\" << W()))\n",
    "def _(myvalue):\n",
    "    pass"
   ]
  },
  {
   "cell_type": "markdown",
   "metadata": {},
   "source": [
    "### `AS` object\n",
    "The AS object like the MATCH object is syntactic sugar for generating bindable names. In this case any attribute requested to the AS object will return a string with the same name."
   ]
  },
  {
   "cell_type": "code",
   "execution_count": 23,
   "metadata": {},
   "outputs": [],
   "source": [
    "@Rule(AS.myfact << Fact(W()))\n",
    "def _(myfact):\n",
    "    pass"
   ]
  },
  {
   "cell_type": "markdown",
   "metadata": {},
   "source": [
    "Is exactly the same as:\n"
   ]
  },
  {
   "cell_type": "code",
   "execution_count": 24,
   "metadata": {},
   "outputs": [],
   "source": [
    "@Rule(\"myfact\" << Fact(W()))\n",
    "def _(myfact):\n",
    "    pass"
   ]
  },
  {
   "cell_type": "markdown",
   "metadata": {
    "colab_type": "text",
    "id": "0l-NvMMrOJW2"
   },
   "source": [
    "## Animal Example "
   ]
  },
  {
   "cell_type": "code",
   "execution_count": 25,
   "metadata": {
    "colab": {
     "base_uri": "https://localhost:8080/",
     "height": 53
    },
    "colab_type": "code",
    "id": "GtVzVefZOMzA",
    "outputId": "09667256-34e7-4cc9-e566-f17656ab775e"
   },
   "outputs": [
    {
     "name": "stdout",
     "output_type": "stream",
     "text": [
      "animal: duck\n",
      "quack\n"
     ]
    }
   ],
   "source": [
    "from random import choice\n",
    "\n",
    "# (defrule duck animal-is duck) => (assert (sound-is quack))) \n",
    "\n",
    "class Animal(Fact):\n",
    "  pass\n",
    "\n",
    "\n",
    "class AnimalKE1(KnowledgeEngine):\n",
    "  @Rule(Animal('cat'))\n",
    "  def cat_sound(self):\n",
    "      print(\"mew\")\n",
    "\n",
    "  @Rule(Animal('duck'))\n",
    "  def duck_sound(self):\n",
    "      print(\"quack\")\n",
    "\n",
    "\n",
    "engine = AnimalKE1()\n",
    "engine.reset()\n",
    "animal_type = choice(['duck', 'cat', 'horse'])\n",
    "print('animal:', animal_type)\n",
    "engine.declare(Animal(animal_type))\n",
    "engine.run()"
   ]
  },
  {
   "cell_type": "code",
   "execution_count": 34,
   "metadata": {
    "colab": {
     "base_uri": "https://localhost:8080/",
     "height": 53
    },
    "colab_type": "code",
    "id": "z2ZdzVHmP_FR",
    "outputId": "00588f2c-3212-4ccf-d77b-ee336ae8760a"
   },
   "outputs": [
    {
     "name": "stdout",
     "output_type": "stream",
     "text": [
      "Animal is duck\n",
      "Sound is quack\n"
     ]
    }
   ],
   "source": [
    "# (defrule is-it-a-duck\n",
    "#   (animal-has webbed-feet)\n",
    "#   (animal-has feathers)\n",
    "#   =>\n",
    "#   (assert (animal-is duck)))\n",
    "\n",
    "class Animal(Fact):\n",
    "  \"\"\"Info about the traffic light.\"\"\"\n",
    "  pass\n",
    "\n",
    "\n",
    "class AnimalKE2(KnowledgeEngine):\n",
    "  @Rule(AND( Animal(has=('feathers')), Animal(has=('webbed-feet'))))\n",
    "  def guess_animal(self):\n",
    "    print(\"Animal is duck\")\n",
    "    print(\"Sound is quack\")\n",
    "\n",
    "\n",
    "engine = AnimalKE2()\n",
    "engine.reset()\n",
    "engine.declare(Animal(has='feathers'), Animal(has='webbed-feet'))\n",
    "engine.run()"
   ]
  },
  {
   "cell_type": "markdown",
   "metadata": {},
   "source": [
    "## Example using KnowledgeEngine "
   ]
  },
  {
   "cell_type": "code",
   "execution_count": 27,
   "metadata": {},
   "outputs": [
    {
     "name": "stdout",
     "output_type": "stream",
     "text": [
      "Hi ramez! How is the weather in london?\n"
     ]
    }
   ],
   "source": [
    "from experta import *\n",
    "\n",
    "class Greetings(KnowledgeEngine):\n",
    "    @DefFacts()\n",
    "    def _initial_action(self):\n",
    "        yield Fact(action=\"greet\")\n",
    "\n",
    "    @Rule(Fact(action='greet'),\n",
    "          NOT(Fact(name=W())))\n",
    "    def ask_name(self):\n",
    "        self.declare(Fact(name=input(\"What's your name? \")))\n",
    "\n",
    "    @Rule(Fact(action='greet'),\n",
    "          NOT(Fact(location=W())))\n",
    "    def ask_location(self):\n",
    "        self.declare(Fact(location=input(\"Where are you? \")))\n",
    "\n",
    "    @Rule(Fact(action='greet'),\n",
    "          Fact(name=MATCH.name),\n",
    "          Fact(location=MATCH.location))\n",
    "    def greet(self, name, location):\n",
    "        print(\"Hi %s! How is the weather in %s?\" % (name, location))\n",
    "\n",
    "engine = Greetings()\n",
    "engine.reset()  # Prepare the engine for the execution.\n",
    "engine.run()  # Run it!"
   ]
  },
  {
   "cell_type": "markdown",
   "metadata": {
    "colab_type": "text",
    "id": "N1d5hFnsLqwc"
   },
   "source": [
    "## A simple Example about trafic light "
   ]
  },
  {
   "cell_type": "code",
   "execution_count": 28,
   "metadata": {
    "colab": {
     "base_uri": "https://localhost:8080/",
     "height": 53
    },
    "colab_type": "code",
    "id": "Vhsy7T-kLnqq",
    "outputId": "7127d272-b24c-4e17-d04c-654471fe0171"
   },
   "outputs": [
    {
     "name": "stdout",
     "output_type": "stream",
     "text": [
      "color now: red\n",
      "Don't walk\n"
     ]
    }
   ],
   "source": [
    "from random import choice\n",
    "from experta import *\n",
    "\n",
    "\n",
    "class Light(Fact):\n",
    "  \"\"\"Info about the traffic light.\"\"\"\n",
    "  pass\n",
    "\n",
    "\n",
    "class RobotCrossStreet(KnowledgeEngine):\n",
    "  @Rule(Light(color='green'))\n",
    "  def green_light(self):\n",
    "      print(\"Walk\")\n",
    "\n",
    "  @Rule(Light(color='red'))\n",
    "  def red_light(self):\n",
    "      print(\"Don't walk\")\n",
    "\n",
    "  @Rule(AS.light << Light(color=L('yellow') | L('blinking-yellow')))\n",
    "  def cautious(self, light):\n",
    "      print(\"Be cautious00 because light is\", light[\"color\"])\n",
    "      \n",
    "engine = RobotCrossStreet()\n",
    "engine.reset()\n",
    "color_now = choice(['green', 'yellow', 'blinking-yellow', 'red'])\n",
    "print('color now:', color_now)\n",
    "engine.declare(Light(color=color_now))\n",
    "engine.run()"
   ]
  },
  {
   "cell_type": "markdown",
   "metadata": {
    "colab_type": "text",
    "id": "0OZpHsLAj3TQ"
   },
   "source": [
    "## conclude a fact "
   ]
  },
  {
   "cell_type": "code",
   "execution_count": 29,
   "metadata": {
    "colab": {
     "base_uri": "https://localhost:8080/",
     "height": 124
    },
    "colab_type": "code",
    "id": "M0nWD9QPjN5U",
    "outputId": "c189dc24-9940-4c28-a4cb-e5aa0b51ba4c"
   },
   "outputs": [
    {
     "name": "stdout",
     "output_type": "stream",
     "text": [
      "<f-0>: InitialFact()\n",
      "<f-1>: Animal(has='feathers')\n",
      "<f-2>: Animal(has='webbed-feet')\n",
      "<f-3>: Animal('duck')\n",
      "Animal is duck\n",
      "Sound is quack\n"
     ]
    }
   ],
   "source": [
    "class Animal(Fact):\n",
    "  \"\"\"Info about the traffic light.\"\"\"\n",
    "  pass\n",
    "\n",
    "\n",
    "class AnimalKE3(KnowledgeEngine):\n",
    "  @Rule(AND( Animal(has=('feathers')), Animal(has=('feathers'))))\n",
    "  def guess_animal(self):\n",
    "    self.declare(Animal('duck'))\n",
    "    print(self.facts)\n",
    "  \n",
    "  @Rule(Animal('duck'))\n",
    "  def it_is_duck(self):\n",
    "    print(\"Animal is duck\")\n",
    "    print(\"Sound is quack\")\n",
    "\n",
    "engine = AnimalKE3()\n",
    "engine.reset()\n",
    "engine.declare(Animal(has='feathers'), Animal(has='webbed-feet'))\n",
    "engine.run()\n",
    "engine.run()"
   ]
  },
  {
   "cell_type": "markdown",
   "metadata": {},
   "source": [
    "### References"
   ]
  },
  {
   "cell_type": "markdown",
   "metadata": {},
   "source": [
    "* https://github.com/nilp0inter/experta/blob/develop/docs/source/installation.rst\n",
    "* https://github.com/motazsaad/ai-csci4304/tree/master/expert-system\n"
   ]
  },
  {
   "cell_type": "code",
   "execution_count": null,
   "metadata": {},
   "outputs": [],
   "source": []
  }
 ],
 "metadata": {
  "colab": {
   "collapsed_sections": [],
   "name": "experta",
   "provenance": []
  },
  "kernelspec": {
   "display_name": "Python 3",
   "language": "python",
   "name": "python3"
  },
  "language_info": {
   "codemirror_mode": {
    "name": "ipython",
    "version": 3
   },
   "file_extension": ".py",
   "mimetype": "text/x-python",
   "name": "python",
   "nbconvert_exporter": "python",
   "pygments_lexer": "ipython3",
   "version": "3.8.20"
  }
 },
 "nbformat": 4,
 "nbformat_minor": 1
}
